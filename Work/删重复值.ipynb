{
 "cells": [
  {
   "cell_type": "code",
   "execution_count": 15,
   "metadata": {},
   "outputs": [],
   "source": [
    "import pandas as pdx\n",
    "import numpy as np"
   ]
  },
  {
   "cell_type": "code",
   "execution_count": 34,
   "metadata": {},
   "outputs": [],
   "source": [
    "ALL = pd.read_excel('./Data/ALL.xlsx')"
   ]
  },
  {
   "cell_type": "code",
   "execution_count": 44,
   "metadata": {},
   "outputs": [],
   "source": [
    "DL = pd.read_excel('./Data/delete.xlsx')"
   ]
  },
  {
   "cell_type": "code",
   "execution_count": 37,
   "metadata": {},
   "outputs": [
    {
     "data": {
      "text/html": [
       "<div>\n",
       "<style scoped>\n",
       "    .dataframe tbody tr th:only-of-type {\n",
       "        vertical-align: middle;\n",
       "    }\n",
       "\n",
       "    .dataframe tbody tr th {\n",
       "        vertical-align: top;\n",
       "    }\n",
       "\n",
       "    .dataframe thead th {\n",
       "        text-align: right;\n",
       "    }\n",
       "</style>\n",
       "<table border=\"1\" class=\"dataframe\">\n",
       "  <thead>\n",
       "    <tr style=\"text-align: right;\">\n",
       "      <th></th>\n",
       "      <th>商品id</th>\n",
       "      <th>产品名称</th>\n",
       "      <th>出库单名称</th>\n",
       "      <th>规格</th>\n",
       "      <th>数量</th>\n",
       "      <th>商品链接</th>\n",
       "      <th>重量</th>\n",
       "      <th>产品ID</th>\n",
       "    </tr>\n",
       "  </thead>\n",
       "  <tbody>\n",
       "    <tr>\n",
       "      <td>0</td>\n",
       "      <td>897171913</td>\n",
       "      <td>133937#X18081008G-去污清洁片</td>\n",
       "      <td>133937#多功能去污生物酶</td>\n",
       "      <td>清洁片-100 | (133937#多功能去污-噴霧器-1)</td>\n",
       "      <td>101</td>\n",
       "      <td>visooy.com/collections/frontpage/products/supe...</td>\n",
       "      <td>420.0</td>\n",
       "      <td>133937</td>\n",
       "    </tr>\n",
       "    <tr>\n",
       "      <td>1</td>\n",
       "      <td>688497062</td>\n",
       "      <td>165802#透气网眼五指袜</td>\n",
       "      <td>165802#透氣網眼五指襪</td>\n",
       "      <td>均码,白色-4 | (均码,蓝色-4) | (均码,黑色-4) | (均码,黄色-4) | ...</td>\n",
       "      <td>20</td>\n",
       "      <td>www.huixiy.com/cloth/3yh77.html</td>\n",
       "      <td>620.0</td>\n",
       "      <td>165802</td>\n",
       "    </tr>\n",
       "    <tr>\n",
       "      <td>2</td>\n",
       "      <td>706819376</td>\n",
       "      <td>191355#十里螺香正宗螺螄粉</td>\n",
       "      <td>191355#十里螺香正宗螺螄粉</td>\n",
       "      <td>螺蛳粉1袋-15</td>\n",
       "      <td>15</td>\n",
       "      <td>706819376.uykut.com</td>\n",
       "      <td>5240.0</td>\n",
       "      <td>191355</td>\n",
       "    </tr>\n",
       "    <tr>\n",
       "      <td>3</td>\n",
       "      <td>515703866</td>\n",
       "      <td>192233#乳木果潤膚內褲</td>\n",
       "      <td>192233#乳木果潤膚內褲</td>\n",
       "      <td>黑色,L-5 | (浅绿,XL-3) | (浅蓝,XL-2) | (粉色,L-3) | (浅...</td>\n",
       "      <td>15</td>\n",
       "      <td>515703866.rfrsd.com</td>\n",
       "      <td>420.0</td>\n",
       "      <td>192233</td>\n",
       "    </tr>\n",
       "    <tr>\n",
       "      <td>4</td>\n",
       "      <td>645875953</td>\n",
       "      <td>115026#Repair車漆去痕修復神器</td>\n",
       "      <td>115026#Repair車漆去痕修復神器</td>\n",
       "      <td>Repair車漆去痕修復神器-12</td>\n",
       "      <td>12</td>\n",
       "      <td>cppily.com/products/repair-car-paint-to-trace-...</td>\n",
       "      <td>1420.0</td>\n",
       "      <td>115026</td>\n",
       "    </tr>\n",
       "  </tbody>\n",
       "</table>\n",
       "</div>"
      ],
      "text/plain": [
       "        商品id                     产品名称                  出库单名称  \\\n",
       "0  897171913  133937#X18081008G-去污清洁片        133937#多功能去污生物酶   \n",
       "1  688497062           165802#透气网眼五指袜         165802#透氣網眼五指襪   \n",
       "2  706819376         191355#十里螺香正宗螺螄粉       191355#十里螺香正宗螺螄粉   \n",
       "3  515703866           192233#乳木果潤膚內褲         192233#乳木果潤膚內褲   \n",
       "4  645875953    115026#Repair車漆去痕修復神器  115026#Repair車漆去痕修復神器   \n",
       "\n",
       "                                                  规格   数量  \\\n",
       "0                     清洁片-100 | (133937#多功能去污-噴霧器-1)  101   \n",
       "1  均码,白色-4 | (均码,蓝色-4) | (均码,黑色-4) | (均码,黄色-4) | ...   20   \n",
       "2                                           螺蛳粉1袋-15   15   \n",
       "3  黑色,L-5 | (浅绿,XL-3) | (浅蓝,XL-2) | (粉色,L-3) | (浅...   15   \n",
       "4                                  Repair車漆去痕修復神器-12   12   \n",
       "\n",
       "                                                商品链接      重量    产品ID  \n",
       "0  visooy.com/collections/frontpage/products/supe...   420.0  133937  \n",
       "1                    www.huixiy.com/cloth/3yh77.html   620.0  165802  \n",
       "2                                706819376.uykut.com  5240.0  191355  \n",
       "3                                515703866.rfrsd.com   420.0  192233  \n",
       "4  cppily.com/products/repair-car-paint-to-trace-...  1420.0  115026  "
      ]
     },
     "execution_count": 37,
     "metadata": {},
     "output_type": "execute_result"
    }
   ],
   "source": [
    "ALL.head()"
   ]
  },
  {
   "cell_type": "code",
   "execution_count": 45,
   "metadata": {},
   "outputs": [
    {
     "data": {
      "text/html": [
       "<div>\n",
       "<style scoped>\n",
       "    .dataframe tbody tr th:only-of-type {\n",
       "        vertical-align: middle;\n",
       "    }\n",
       "\n",
       "    .dataframe tbody tr th {\n",
       "        vertical-align: top;\n",
       "    }\n",
       "\n",
       "    .dataframe thead th {\n",
       "        text-align: right;\n",
       "    }\n",
       "</style>\n",
       "<table border=\"1\" class=\"dataframe\">\n",
       "  <thead>\n",
       "    <tr style=\"text-align: right;\">\n",
       "      <th></th>\n",
       "      <th>商品名称</th>\n",
       "      <th>产品ID</th>\n",
       "      <th>产品ID(商品管理）</th>\n",
       "      <th>产品名称</th>\n",
       "      <th>出库单名称</th>\n",
       "      <th>单价</th>\n",
       "      <th>原活动价格</th>\n",
       "      <th>修改后活动价格</th>\n",
       "      <th>后台是否上线</th>\n",
       "      <th>FB是否上线</th>\n",
       "      <th>选择产品</th>\n",
       "      <th>素材设计</th>\n",
       "      <th>日销量</th>\n",
       "      <th>周销量</th>\n",
       "      <th>月销量</th>\n",
       "      <th>采购价</th>\n",
       "      <th>采购链接</th>\n",
       "    </tr>\n",
       "  </thead>\n",
       "  <tbody>\n",
       "    <tr>\n",
       "      <td>0</td>\n",
       "      <td>NaN</td>\n",
       "      <td>NaN</td>\n",
       "      <td>3.0</td>\n",
       "      <td>冰絲打底衫</td>\n",
       "      <td>http://ansege.com/2</td>\n",
       "      <td>NaN</td>\n",
       "      <td>NaN</td>\n",
       "      <td>NaN</td>\n",
       "      <td>下架</td>\n",
       "      <td>NaN</td>\n",
       "      <td>NaN</td>\n",
       "      <td>NaN</td>\n",
       "      <td>NaN</td>\n",
       "      <td>NaN</td>\n",
       "      <td>NaN</td>\n",
       "      <td>NaN</td>\n",
       "      <td>NaN</td>\n",
       "    </tr>\n",
       "    <tr>\n",
       "      <td>1</td>\n",
       "      <td>NaN</td>\n",
       "      <td>NaN</td>\n",
       "      <td>7.0</td>\n",
       "      <td>【官方站】防藍光/輻射緩解疲勞可折疊變焦老花鏡</td>\n",
       "      <td>http://ansege.com/5</td>\n",
       "      <td>860.0</td>\n",
       "      <td>960两组\\n999 三组</td>\n",
       "      <td>NaN</td>\n",
       "      <td>上线</td>\n",
       "      <td>NaN</td>\n",
       "      <td>是</td>\n",
       "      <td>NaN</td>\n",
       "      <td>NaN</td>\n",
       "      <td>过千</td>\n",
       "      <td>过万</td>\n",
       "      <td>NaN</td>\n",
       "      <td>https://detail.1688.com/offer/598483806442.htm...</td>\n",
       "    </tr>\n",
       "    <tr>\n",
       "      <td>2</td>\n",
       "      <td>NaN</td>\n",
       "      <td>NaN</td>\n",
       "      <td>8.0</td>\n",
       "      <td>日本窈窕襪</td>\n",
       "      <td>http://ansege.com/6</td>\n",
       "      <td>998.0</td>\n",
       "      <td>998 四入\\n1398 六入\\n1598 九入</td>\n",
       "      <td>NaN</td>\n",
       "      <td>上线</td>\n",
       "      <td>NaN</td>\n",
       "      <td>NaN</td>\n",
       "      <td>NaN</td>\n",
       "      <td>NaN</td>\n",
       "      <td>过千</td>\n",
       "      <td>过万</td>\n",
       "      <td>NaN</td>\n",
       "      <td>https://detail.1688.com/offer/538218192759.html</td>\n",
       "    </tr>\n",
       "    <tr>\n",
       "      <td>3</td>\n",
       "      <td>NaN</td>\n",
       "      <td>NaN</td>\n",
       "      <td>9.0</td>\n",
       "      <td>【官方站】法國無鋼圈蕾絲內衣</td>\n",
       "      <td>http://ansege.com/7</td>\n",
       "      <td>698.0</td>\n",
       "      <td>买一送一\\n+398再得两件</td>\n",
       "      <td>NaN</td>\n",
       "      <td>上线</td>\n",
       "      <td>NaN</td>\n",
       "      <td>NaN</td>\n",
       "      <td>NaN</td>\n",
       "      <td>NaN</td>\n",
       "      <td>过千</td>\n",
       "      <td>过万</td>\n",
       "      <td>NaN</td>\n",
       "      <td>https://detail.1688.com/offer/597842566331.html</td>\n",
       "    </tr>\n",
       "    <tr>\n",
       "      <td>4</td>\n",
       "      <td>NaN</td>\n",
       "      <td>NaN</td>\n",
       "      <td>10.0</td>\n",
       "      <td>【第二雙300】爆紅款休閒駕車豆豆鞋懶人鞋</td>\n",
       "      <td>http://ansege.com/8</td>\n",
       "      <td>998.0</td>\n",
       "      <td>无</td>\n",
       "      <td>NaN</td>\n",
       "      <td>上线</td>\n",
       "      <td>NaN</td>\n",
       "      <td>NaN</td>\n",
       "      <td>NaN</td>\n",
       "      <td>NaN</td>\n",
       "      <td>过千</td>\n",
       "      <td>NaN</td>\n",
       "      <td>NaN</td>\n",
       "      <td>https://detail.1688.com/offer/604103643895.html</td>\n",
       "    </tr>\n",
       "  </tbody>\n",
       "</table>\n",
       "</div>"
      ],
      "text/plain": [
       "  商品名称  产品ID  产品ID(商品管理）                     产品名称                出库单名称     单价  \\\n",
       "0  NaN   NaN         3.0                    冰絲打底衫  http://ansege.com/2    NaN   \n",
       "1  NaN   NaN         7.0  【官方站】防藍光/輻射緩解疲勞可折疊變焦老花鏡  http://ansege.com/5  860.0   \n",
       "2  NaN   NaN         8.0                    日本窈窕襪  http://ansege.com/6  998.0   \n",
       "3  NaN   NaN         9.0           【官方站】法國無鋼圈蕾絲內衣  http://ansege.com/7  698.0   \n",
       "4  NaN   NaN        10.0    【第二雙300】爆紅款休閒駕車豆豆鞋懶人鞋  http://ansege.com/8  998.0   \n",
       "\n",
       "                      原活动价格  修改后活动价格 后台是否上线 FB是否上线 选择产品 素材设计  日销量  周销量  月销量  \\\n",
       "0                       NaN      NaN     下架    NaN  NaN  NaN  NaN  NaN  NaN   \n",
       "1             960两组\\n999 三组      NaN     上线    NaN    是  NaN  NaN   过千   过万   \n",
       "2  998 四入\\n1398 六入\\n1598 九入      NaN     上线    NaN  NaN  NaN  NaN   过千   过万   \n",
       "3            买一送一\\n+398再得两件      NaN     上线    NaN  NaN  NaN  NaN   过千   过万   \n",
       "4                         无      NaN     上线    NaN  NaN  NaN  NaN   过千  NaN   \n",
       "\n",
       "   采购价                                               采购链接  \n",
       "0  NaN                                                NaN  \n",
       "1  NaN  https://detail.1688.com/offer/598483806442.htm...  \n",
       "2  NaN    https://detail.1688.com/offer/538218192759.html  \n",
       "3  NaN    https://detail.1688.com/offer/597842566331.html  \n",
       "4  NaN    https://detail.1688.com/offer/604103643895.html  "
      ]
     },
     "execution_count": 45,
     "metadata": {},
     "output_type": "execute_result"
    }
   ],
   "source": [
    "DL.head()"
   ]
  },
  {
   "cell_type": "code",
   "execution_count": 50,
   "metadata": {},
   "outputs": [
    {
     "data": {
      "text/plain": [
       "0       True\n",
       "1      False\n",
       "2      False\n",
       "3      False\n",
       "4       True\n",
       "       ...  \n",
       "263    False\n",
       "264    False\n",
       "265    False\n",
       "266    False\n",
       "267    False\n",
       "Name: 产品ID, Length: 268, dtype: bool"
      ]
     },
     "execution_count": 50,
     "metadata": {},
     "output_type": "execute_result"
    }
   ],
   "source": [
    "ALL['产品ID'].isin(DL['产品ID'])"
   ]
  },
  {
   "cell_type": "code",
   "execution_count": 52,
   "metadata": {},
   "outputs": [],
   "source": [
    "df_a_filter = ALL[ALL['产品ID'].isin(DL['产品ID'])]"
   ]
  },
  {
   "cell_type": "code",
   "execution_count": null,
   "metadata": {},
   "outputs": [],
   "source": [
    "df_a_filter = df_a[~ df_a['uid'].isin(df_b['uid'])]"
   ]
  },
  {
   "cell_type": "code",
   "execution_count": 53,
   "metadata": {},
   "outputs": [],
   "source": [
    "df_a_filter.to_excel('./Data/TT.xlsx', index=False)"
   ]
  },
  {
   "cell_type": "code",
   "execution_count": 48,
   "metadata": {},
   "outputs": [
    {
     "data": {
      "text/plain": [
       "Index(['商品名称', '产品ID', '产品ID(商品管理）', '产品名称', '出库单名称', '单价', '原活动价格', '修改后活动价格',\n",
       "       '后台是否上线', 'FB是否上线', '选择产品', '素材设计', '日销量', '周销量', '月销量', '采购价', '采购链接'],\n",
       "      dtype='object')"
      ]
     },
     "execution_count": 48,
     "metadata": {},
     "output_type": "execute_result"
    }
   ],
   "source": [
    "DL.columns"
   ]
  },
  {
   "cell_type": "code",
   "execution_count": 49,
   "metadata": {},
   "outputs": [
    {
     "ename": "AttributeError",
     "evalue": "'DataFrame' object has no attribute 'row'",
     "output_type": "error",
     "traceback": [
      "\u001b[1;31m---------------------------------------------------------------------------\u001b[0m",
      "\u001b[1;31mAttributeError\u001b[0m                            Traceback (most recent call last)",
      "\u001b[1;32m<ipython-input-49-16ec3e87fdc1>\u001b[0m in \u001b[0;36m<module>\u001b[1;34m\u001b[0m\n\u001b[1;32m----> 1\u001b[1;33m \u001b[0mDL\u001b[0m\u001b[1;33m.\u001b[0m\u001b[0mrow\u001b[0m\u001b[1;33m\u001b[0m\u001b[1;33m\u001b[0m\u001b[0m\n\u001b[0m",
      "\u001b[1;32mD:\\Package\\Anaconda3\\lib\\site-packages\\pandas\\core\\generic.py\u001b[0m in \u001b[0;36m__getattr__\u001b[1;34m(self, name)\u001b[0m\n\u001b[0;32m   5177\u001b[0m             \u001b[1;32mif\u001b[0m \u001b[0mself\u001b[0m\u001b[1;33m.\u001b[0m\u001b[0m_info_axis\u001b[0m\u001b[1;33m.\u001b[0m\u001b[0m_can_hold_identifiers_and_holds_name\u001b[0m\u001b[1;33m(\u001b[0m\u001b[0mname\u001b[0m\u001b[1;33m)\u001b[0m\u001b[1;33m:\u001b[0m\u001b[1;33m\u001b[0m\u001b[1;33m\u001b[0m\u001b[0m\n\u001b[0;32m   5178\u001b[0m                 \u001b[1;32mreturn\u001b[0m \u001b[0mself\u001b[0m\u001b[1;33m[\u001b[0m\u001b[0mname\u001b[0m\u001b[1;33m]\u001b[0m\u001b[1;33m\u001b[0m\u001b[1;33m\u001b[0m\u001b[0m\n\u001b[1;32m-> 5179\u001b[1;33m             \u001b[1;32mreturn\u001b[0m \u001b[0mobject\u001b[0m\u001b[1;33m.\u001b[0m\u001b[0m__getattribute__\u001b[0m\u001b[1;33m(\u001b[0m\u001b[0mself\u001b[0m\u001b[1;33m,\u001b[0m \u001b[0mname\u001b[0m\u001b[1;33m)\u001b[0m\u001b[1;33m\u001b[0m\u001b[1;33m\u001b[0m\u001b[0m\n\u001b[0m\u001b[0;32m   5180\u001b[0m \u001b[1;33m\u001b[0m\u001b[0m\n\u001b[0;32m   5181\u001b[0m     \u001b[1;32mdef\u001b[0m \u001b[0m__setattr__\u001b[0m\u001b[1;33m(\u001b[0m\u001b[0mself\u001b[0m\u001b[1;33m,\u001b[0m \u001b[0mname\u001b[0m\u001b[1;33m,\u001b[0m \u001b[0mvalue\u001b[0m\u001b[1;33m)\u001b[0m\u001b[1;33m:\u001b[0m\u001b[1;33m\u001b[0m\u001b[1;33m\u001b[0m\u001b[0m\n",
      "\u001b[1;31mAttributeError\u001b[0m: 'DataFrame' object has no attribute 'row'"
     ]
    }
   ],
   "source": [
    "DL.row"
   ]
  },
  {
   "cell_type": "code",
   "execution_count": null,
   "metadata": {},
   "outputs": [],
   "source": []
  }
 ],
 "metadata": {
  "kernelspec": {
   "display_name": "Python 3",
   "language": "python",
   "name": "python3"
  },
  "language_info": {
   "codemirror_mode": {
    "name": "ipython",
    "version": 3
   },
   "file_extension": ".py",
   "mimetype": "text/x-python",
   "name": "python",
   "nbconvert_exporter": "python",
   "pygments_lexer": "ipython3",
   "version": "3.7.4"
  },
  "toc": {
   "base_numbering": 1,
   "nav_menu": {},
   "number_sections": true,
   "sideBar": true,
   "skip_h1_title": false,
   "title_cell": "Table of Contents",
   "title_sidebar": "Contents",
   "toc_cell": false,
   "toc_position": {},
   "toc_section_display": true,
   "toc_window_display": false
  }
 },
 "nbformat": 4,
 "nbformat_minor": 2
}
